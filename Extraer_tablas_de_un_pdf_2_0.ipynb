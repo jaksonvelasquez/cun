{
  "nbformat": 4,
  "nbformat_minor": 0,
  "metadata": {
    "colab": {
      "provenance": [],
      "authorship_tag": "ABX9TyNVVWCIdgOMh40OTr0jB+jo",
      "include_colab_link": true
    },
    "kernelspec": {
      "name": "python3",
      "display_name": "Python 3"
    },
    "language_info": {
      "name": "python"
    }
  },
  "cells": [
    {
      "cell_type": "markdown",
      "metadata": {
        "id": "view-in-github",
        "colab_type": "text"
      },
      "source": [
        "<a href=\"https://colab.research.google.com/github/jaksonvelasquez/cun/blob/main/Extraer_tablas_de_un_pdf_2_0.ipynb\" target=\"_parent\"><img src=\"https://colab.research.google.com/assets/colab-badge.svg\" alt=\"Open In Colab\"/></a>"
      ]
    },
    {
      "cell_type": "code",
      "source": [
        "# @title Versión final con PDFPLumber\n",
        "import sys\n",
        "import subprocess\n",
        "\n",
        "# Función para instalar una librería y ocultar la salida del proceso de instalación\n",
        "def install_and_import(package):\n",
        "    try:\n",
        "        __import__(package)\n",
        "    except ImportError:\n",
        "        print(f\"Instalando {package}...\")\n",
        "        subprocess.check_call([sys.executable, \"-m\", \"pip\", \"install\", package], stdout=subprocess.DEVNULL)\n",
        "        __import__(package)\n",
        "\n",
        "# Instalar PDFPlumber si no está disponible\n",
        "install_and_import('pdfplumber')\n",
        "\n",
        "import pdfplumber\n",
        "import pandas as pd\n",
        "from google.colab import files\n",
        "from IPython.display import display\n",
        "\n",
        "def extract_tables_from_pdf(pdf_path, pages):\n",
        "    all_tables = []\n",
        "    with pdfplumber.open(pdf_path) as pdf:\n",
        "        # Extraer tablas solo de las páginas especificadas\n",
        "        for page_number in pages:\n",
        "            page = pdf.pages[page_number - 1]  # Ajuste de índice de página\n",
        "            page_tables = page.extract_tables()\n",
        "            for table in page_tables:\n",
        "                if table:\n",
        "                    # Convertir la tabla a un DataFrame y añadirlo a la lista\n",
        "                    df = pd.DataFrame(table[1:], columns=table[0])\n",
        "                    all_tables.append(df)\n",
        "    return all_tables\n",
        "\n",
        "def tables_to_excel(tables, indices, excel_path):\n",
        "    # Crear un archivo Excel solo con las tablas seleccionadas\n",
        "    with pd.ExcelWriter(excel_path, engine='openpyxl') as writer:\n",
        "        for index in indices:\n",
        "            tables[index].to_excel(writer, sheet_name=f'Tabla {index + 1}', index=False)\n",
        "\n",
        "# Cargar el archivo PDF\n",
        "uploaded = files.upload()\n",
        "pdf_path = next(iter(uploaded.keys()))\n",
        "\n",
        "# Solicitar al usuario las páginas donde se encuentran las tablas\n",
        "page_numbers = input(\"Ingresa los números de las páginas donde están las tablas, separados por comas (e.g., 1,3,5): \")\n",
        "page_numbers = [int(page.strip()) for page in page_numbers.split(',')]\n",
        "\n",
        "# Extraer las tablas del PDF en las páginas especificadas\n",
        "tables = extract_tables_from_pdf(pdf_path, page_numbers)\n",
        "\n",
        "# Mostrar las tablas al usuario y pedir que seleccione las que desea guardar\n",
        "print(\"Tablas extraídas:\")\n",
        "for i, table in enumerate(tables):\n",
        "    print(f\"\\nTabla {i + 1}:\")\n",
        "    display(table)  # Mejor visualización usando display\n",
        "\n",
        "selected_indices = input(\"Ingresa los números de las tablas que deseas guardar, separados por comas (e.g., 1,3,5): \")\n",
        "selected_indices = [int(index.strip()) - 1 for index in selected_indices.split(',')]\n",
        "\n",
        "# Ruta del archivo Excel de salida\n",
        "excel_path = 'tablas_extraidas.xlsx'\n",
        "\n",
        "# Convertir las tablas seleccionadas a un archivo Excel\n",
        "tables_to_excel(tables, selected_indices, excel_path)\n",
        "\n",
        "# Descargar el archivo Excel\n",
        "files.download(excel_path)"
      ],
      "metadata": {
        "cellView": "form",
        "id": "ndwV8POfLeRe"
      },
      "execution_count": null,
      "outputs": []
    }
  ]
}