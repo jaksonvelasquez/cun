{
  "nbformat": 4,
  "nbformat_minor": 0,
  "metadata": {
    "colab": {
      "provenance": [],
      "mount_file_id": "1MMSZlttBa-Q5R-4_Ir9-0-oSfgfybKBb",
      "authorship_tag": "ABX9TyN9JBYin1wiLvnMfFYEIdJx",
      "include_colab_link": true
    },
    "kernelspec": {
      "name": "python3",
      "display_name": "Python 3"
    },
    "language_info": {
      "name": "python"
    }
  },
  "cells": [
    {
      "cell_type": "markdown",
      "metadata": {
        "id": "view-in-github",
        "colab_type": "text"
      },
      "source": [
        "<a href=\"https://colab.research.google.com/github/jaksonvelasquez/cun/blob/main/Copiar_carpetas_compartidas_en_Drive_a_drive_propio.ipynb\" target=\"_parent\"><img src=\"https://colab.research.google.com/assets/colab-badge.svg\" alt=\"Open In Colab\"/></a>"
      ]
    },
    {
      "cell_type": "code",
      "execution_count": null,
      "metadata": {
        "colab": {
          "base_uri": "https://localhost:8080/"
        },
        "id": "erFkNmEnlFkB",
        "outputId": "e1ec51ac-c1b3-4dd1-dd0b-5679a8b8e7dc"
      },
      "outputs": [
        {
          "output_type": "stream",
          "name": "stdout",
          "text": [
            "Drive already mounted at /content/drive; to attempt to forcibly remount, call drive.mount(\"/content/drive\", force_remount=True).\n",
            "Copia completada con éxito.\n"
          ]
        }
      ],
      "source": [
        "from google.colab import drive\n",
        "import shutil\n",
        "import os\n",
        "\n",
        "# Monta Google Drive\n",
        "drive.mount('/content/drive')\n",
        "\n",
        "# Define la ruta de la carpeta compartida\n",
        "# Debes agregar la carpeta compartida a tu Google Drive manualmente primero\n",
        "shared_folder_path = '/content/drive/MyDrive/Arana/SAAMA  Nivel 3.0 '\n",
        "\n",
        "# Define la ruta donde deseas guardar la copia\n",
        "destination_folder_path = '/content/drive/MyDrive/Saama/Saama_3.0'\n",
        "\n",
        "# Crea la carpeta destino si no existe\n",
        "if not os.path.exists(destination_folder_path):\n",
        "    os.makedirs(destination_folder_path)\n",
        "\n",
        "# Copia los contenidos de la carpeta compartida a la carpeta destino\n",
        "shutil.copytree(shared_folder_path, destination_folder_path, dirs_exist_ok=True)\n",
        "\n",
        "print(\"Copia completada con éxito.\")"
      ]
    },
    {
      "cell_type": "code",
      "source": [],
      "metadata": {
        "id": "d1aptxZjonIW"
      },
      "execution_count": null,
      "outputs": []
    },
    {
      "cell_type": "code",
      "execution_count": null,
      "metadata": {
        "colab": {
          "base_uri": "https://localhost:8080/"
        },
        "outputId": "25ea1fbb-eb0d-4f1f-c839-640eac3be8c4",
        "id": "1Nf3KbmvookL"
      },
      "outputs": [
        {
          "output_type": "stream",
          "name": "stdout",
          "text": [
            "Drive already mounted at /content/drive; to attempt to forcibly remount, call drive.mount(\"/content/drive\", force_remount=True).\n"
          ]
        }
      ],
      "source": [
        "from google.colab import drive\n",
        "import shutil\n",
        "import os\n",
        "\n",
        "# Monta Google Drive\n",
        "drive.mount('/content/drive')\n",
        "\n",
        "# Define la ruta de la carpeta compartida\n",
        "# Debes agregar la carpeta compartida a tu Google Drive manualmente primero\n",
        "shared_folder_path = '/content/drive/MyDrive/Arana/Lifebook Online - Jon y Missy Butcher - Mindvalley'\n",
        "\n",
        "# Define la ruta donde deseas guardar la copia\n",
        "destination_folder_path = '/content/drive/MyDrive/Saama/NO ES SAAMA ES MINDVALLEY'\n",
        "\n",
        "# Crea la carpeta destino si no existe\n",
        "if not os.path.exists(destination_folder_path):\n",
        "    os.makedirs(destination_folder_path)\n",
        "\n",
        "# Copia los contenidos de la carpeta compartida a la carpeta destino\n",
        "shutil.copytree(shared_folder_path, destination_folder_path, dirs_exist_ok=True)\n",
        "\n",
        "print(\"Copia completada con éxito.\")\n"
      ]
    }
  ]
}